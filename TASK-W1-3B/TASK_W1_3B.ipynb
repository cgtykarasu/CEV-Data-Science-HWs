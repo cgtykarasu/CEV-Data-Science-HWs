{
  "nbformat": 4,
  "nbformat_minor": 0,
  "metadata": {
    "colab": {
      "provenance": []
    },
    "kernelspec": {
      "name": "python3",
      "display_name": "Python 3"
    },
    "language_info": {
      "name": "python"
    }
  },
  "cells": [
    {
      "cell_type": "markdown",
      "source": [
        "**Please write a piece of code to find the names and order no of the presidents with the highest and the lowest heights.**"
      ],
      "metadata": {
        "id": "6bhdvtFoz20A"
      }
    },
    {
      "cell_type": "code",
      "execution_count": 3,
      "metadata": {
        "colab": {
          "base_uri": "https://localhost:8080/"
        },
        "id": "pU9Wf-SSzytz",
        "outputId": "c1b59060-a954-4636-a902-241a2578da75"
      },
      "outputs": [
        {
          "output_type": "stream",
          "name": "stdout",
          "text": [
            "Tallest president of the USA is Abraham Lincoln, he is 16.president and his height is 193 centimeters.\n",
            "Tallest president of the USA is Lyndon B. Johnson, he is 36.president and his height is 193 centimeters.\n",
            "Shortest president of the USA is James Madison, he is 4.president and his height is 163 centimeters.\n"
          ]
        }
      ],
      "source": [
        "####################################\n",
        "#      DATA SCIENCE BOOTCAMP       #\n",
        "# File name : TASK-W1-3B.ipynb     #\n",
        "# Author    : Çağatay KARASU       #\n",
        "####################################\n",
        "\n",
        "import pandas as pd\n",
        "\n",
        "data = pd.read_csv('president_heights.csv')\n",
        "\n",
        "maxValueIndex = data['height(cm)'].idxmax()\n",
        "minValueIndex = data['height(cm)'].idxmin()\n",
        "\n",
        "maxDf = data[data['height(cm)'] == data['height(cm)'].max()]\n",
        "maxDf.reset_index(inplace=True)\n",
        "# print(maxDf)\n",
        "\n",
        "minDf = data[data['height(cm)'] == data['height(cm)'].min()]\n",
        "minDf.reset_index(inplace=True)\n",
        "# print(minDf)\n",
        "\n",
        "for i in range(len(maxDf.index+1)):\n",
        "  print('Tallest president of the USA is {}, he is {}.president and his height is {} centimeters.'.format\n",
        "        (maxDf._get_value(i, 'name'),\n",
        "         maxDf._get_value(i, 'order'),\n",
        "         maxDf._get_value(i, 'height(cm)')))\n",
        "\n",
        "for i in range(len(minDf.index+1)):\n",
        "  print('Shortest president of the USA is {}, he is {}.president and his height is {} centimeters.'.format\n",
        "        (minDf._get_value(i, 'name'),\n",
        "         minDf._get_value(i, 'order'),\n",
        "         minDf._get_value(i, 'height(cm)')))"
      ]
    }
  ]
}