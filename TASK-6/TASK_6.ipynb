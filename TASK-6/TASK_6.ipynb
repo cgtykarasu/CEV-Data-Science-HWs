{
  "nbformat": 4,
  "nbformat_minor": 0,
  "metadata": {
    "colab": {
      "provenance": [],
      "collapsed_sections": []
    },
    "kernelspec": {
      "name": "python3",
      "display_name": "Python 3"
    },
    "language_info": {
      "name": "python"
    }
  },
  "cells": [
    {
      "cell_type": "markdown",
      "source": [
        "> 1. Json-Dictionary arasındaki fark nedir? Dumps Ne işe yarıyor? Neden encode kullandık? Neden data.encode.utf-8n şeklinde kullanmadık?\n",
        "\n",
        "JSON bir veri formatıdır, Dictionary bir veri yapısıdır.\n",
        "json. dumps() fonksiyonu, Python nesnelerinin bir alt kümesini (\"dict, list, string ,int, float, True, False, None\") bir json stringe dönüştürür.\n",
        "Python 3.0 ile birlikte stringler Unicode olarak depolanmaya başlamıştır, yani dizedeki her karakter bir kod noktası ile temsil edilir. Bu nedenle, her dize yalnızca bir Unicode kod noktaları sekansıdır. Bu stringlerin saklanması için kod noktaları sekansı bir dizi bayta dönüştürülür. Bu işleme encoding denir.",
        "\n",
        "> 2. Json dumps nedir json load nedir json loads nedir?\n",
        "\n",
        "Json dumps; Python verisini Jsona dönüştürmek için kullanılır.\n",
        "Json load; Sadece JSON dosyasındaki verileri Python verisine çevirir. Veriyi parametre olarak almaz.\n",
        "Json loads; Bir JSON verisini, dictionary tipine dönüştürür. Veriyi parametre olarak alır.\n",
        "\n",
        "> 3. Dockera girdikten sonra spesific bir container hangi networkta çalışıyor ve default ip nasıl bulunacak? Bir satırlık kod olarak yazılacak.\n",
        "\n",
        "Bridge network üzerinden çalışmakta. Komut satırında docker network inspect bridge komutu ile hangi networkte çalıştığı öğrenilebilir.\n",
        "\n",
        "docker inspect -f “{{range.NetworkSettings.Networks}}{{.IPAddress}}{{end}}” ContainerID\n",
        "\n",
        "> 4. Neden UTF-8 kullanıyoruz?\n",
        "\n",
        "Unicode'daki tüm geçerli karakter kod noktalarını kodlayabilmesi sebebiyle tercih edilmektedir.\n",
        "\n",
        "\n",
        "> 5. 192.168.0.1 nedir ve 127.00.01 arasındaki fark nedir?\n",
        "\n",
        "192.168.0.1 modem ve routerlarla kurulan networkteki ip adresidir. 127.0.0.1, bilgisayarın sahip olduğu yerel IP adresidir. (Localhost)\n",
        "\n",
        "\n",
        "\n"
      ],
      "metadata": {
        "id": "vbezrp7nZMlm"
      }
    }
  ]
}
