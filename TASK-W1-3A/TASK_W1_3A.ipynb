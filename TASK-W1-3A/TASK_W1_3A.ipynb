{
  "nbformat": 4,
  "nbformat_minor": 0,
  "metadata": {
    "colab": {
      "provenance": []
    },
    "kernelspec": {
      "name": "python3",
      "display_name": "Python 3"
    },
    "language_info": {
      "name": "python"
    }
  },
  "cells": [
    {
      "cell_type": "markdown",
      "source": [
        "**Write a piece of code that will generate numbers for a coupon in Sayisal Loto that should include 8 colons and each column should have 6 random numbers. Please control the colons in terms of having no repetitions.**"
      ],
      "metadata": {
        "id": "VQnH23oKzPAL"
      }
    },
    {
      "cell_type": "code",
      "execution_count": 2,
      "metadata": {
        "colab": {
          "base_uri": "https://localhost:8080/"
        },
        "id": "V2Hklq7yzIZq",
        "outputId": "acdb692f-63eb-419a-fc5f-51cff04f3a99"
      },
      "outputs": [
        {
          "output_type": "stream",
          "name": "stdout",
          "text": [
            "Numbers in the 1.column : [6, 8, 11, 45, 46, 48]\n",
            "Numbers in the 2.column : [7, 14, 25, 36, 41, 46]\n",
            "Numbers in the 3.column : [5, 11, 13, 18, 26, 27]\n",
            "Numbers in the 4.column : [9, 27, 30, 33, 34, 44]\n",
            "Numbers in the 5.column : [3, 26, 37, 44, 47, 48]\n",
            "Numbers in the 6.column : [22, 26, 28, 30, 32, 40]\n",
            "Numbers in the 7.column : [2, 6, 19, 32, 34, 37]\n",
            "Numbers in the 8.column : [1, 4, 14, 36, 44, 46]\n"
          ]
        }
      ],
      "source": [
        "####################################\n",
        "#      DATA SCIENCE BOOTCAMP       #\n",
        "# File name : TASK-W1-3A.ipynb     #\n",
        "# Author    : Çağatay KARASU       #\n",
        "####################################\n",
        "\n",
        "import random\n",
        "nums = list(range(1,50))\n",
        "\n",
        "for i in range(8):\n",
        "  random.shuffle(nums)\n",
        "  six_nums = nums[:6]\n",
        "  six_nums.sort()\n",
        "  print('Numbers in the {}.column : {}'.format(i+1, six_nums))"
      ]
    }
  ]
}