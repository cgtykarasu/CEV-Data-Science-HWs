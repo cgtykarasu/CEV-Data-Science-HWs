{
  "nbformat": 4,
  "nbformat_minor": 0,
  "metadata": {
    "colab": {
      "provenance": []
    },
    "kernelspec": {
      "name": "python3",
      "display_name": "Python 3"
    },
    "language_info": {
      "name": "python"
    }
  },
  "cells": [
    {
      "cell_type": "markdown",
      "source": [
        "**Prime number function: use while instead of for**"
      ],
      "metadata": {
        "id": "ZVN2q-rlmSU1"
      }
    },
    {
      "cell_type": "code",
      "execution_count": null,
      "metadata": {
        "colab": {
          "base_uri": "https://localhost:8080/"
        },
        "id": "vZlpjbtImPYm",
        "outputId": "c8dc32a5-d4b5-44db-8b92-c7e8f10a60b7"
      },
      "outputs": [
        {
          "output_type": "stream",
          "name": "stdout",
          "text": [
            "0 is a prime number? False\n",
            "1 is a prime number? False\n",
            "2 is a prime number? True\n",
            "3 is a prime number? True\n",
            "4 is a prime number? False\n",
            "5 is a prime number? True\n",
            "6 is a prime number? False\n",
            "7 is a prime number? True\n",
            "8 is a prime number? False\n",
            "9 is a prime number? False\n",
            "10 is a prime number? False\n",
            "11 is a prime number? True\n",
            "12 is a prime number? False\n",
            "13 is a prime number? True\n",
            "14 is a prime number? False\n",
            "15 is a prime number? False\n",
            "16 is a prime number? False\n",
            "17 is a prime number? True\n",
            "18 is a prime number? False\n",
            "19 is a prime number? True\n"
          ]
        }
      ],
      "source": [
        "####################################\n",
        "##### DATA SCIENCE BOOTCAMP ######\n",
        "# File name : TASK-1.2.1.ipynb     #\n",
        "# Author    : Çağatay KARASU       #\n",
        "####################################\n",
        "\n",
        "def is_prime (num):\n",
        "  i = 3\n",
        "  if (num<2):\n",
        "    return False\n",
        "  elif (num==2):\n",
        "    return True\n",
        "  elif(num%2 == 0):\n",
        "    return False\n",
        "  while(i < (num//2)):\n",
        "    if (num % i == 0):\n",
        "      return False\n",
        "    i += 2\n",
        "  return True\n",
        "\n",
        "for i in range (20):\n",
        "  print('{} is a prime number? {}'.format(i, is_prime(i)))"
      ]
    }
  ]
}
